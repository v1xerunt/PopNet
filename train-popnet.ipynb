{
 "cells": [
  {
   "cell_type": "code",
   "execution_count": 1,
   "metadata": {},
   "outputs": [
    {
     "name": "stderr",
     "output_type": "stream",
     "text": [
      "Using backend: pytorch\n"
     ]
    }
   ],
   "source": [
    "import pandas as pd\n",
    "import numpy as np\n",
    "import matplotlib.pyplot as plt\n",
    "import pickle\n",
    "import torch\n",
    "import torch.nn as nn\n",
    "import torch.nn.functional as F\n",
    "from torchsummary import summary\n",
    "import random\n",
    "import os\n",
    "import dgl\n",
    "from matplotlib import pylab\n",
    "\n",
    "import networkx as nx\n",
    "\n",
    "import sklearn\n",
    "from sklearn.metrics import mean_absolute_error, mean_squared_error, r2_score\n",
    "import copy\n",
    "from scipy import stats\n",
    "from model import PopNet\n",
    "from utils import eval, MAPE"
   ]
  },
  {
   "cell_type": "code",
   "execution_count": 2,
   "metadata": {},
   "outputs": [],
   "source": [
    "def seed_torch(seed=6):\n",
    "    random.seed(seed)\n",
    "    os.environ['PYTHONHASHSEED'] = str(seed)\n",
    "    np.random.seed(seed)\n",
    "    torch.manual_seed(seed)\n",
    "    torch.cuda.manual_seed(seed)\n",
    "    torch.cuda.manual_seed_all(seed)\n",
    "    torch.backends.cudnn.benchmark = False\n",
    "    torch.backends.cudnn.deterministic = True\n",
    "seed_torch()"
   ]
  },
  {
   "cell_type": "markdown",
   "metadata": {},
   "source": [
    "# Data preparation"
   ]
  },
  {
   "cell_type": "code",
   "execution_count": 3,
   "metadata": {},
   "outputs": [],
   "source": [
    "x_train_real = pickle.load(open('./data/x_train_real','rb'))\n",
    "x_train_update = pickle.load(open('./data/x_train_update','rb'))\n",
    "y_train_real = pickle.load(open('./data/y_train_real','rb'))\n",
    "y_train_update = pickle.load(open('./data/y_train_update','rb'))\n",
    "\n",
    "\n",
    "x_val_real = pickle.load(open('./data/x_val_real','rb'))\n",
    "x_val_update = pickle.load(open('./data/x_val_update','rb'))\n",
    "y_val = pickle.load(open('./data/y_val','rb'))\n",
    "\n",
    "\n",
    "x_test_real = pickle.load(open('./data/x_test_real','rb'))\n",
    "x_test_update = pickle.load(open('./data/x_test_update','rb'))\n",
    "y_test = pickle.load(open('./data/y_test','rb'))\n",
    "\n",
    "\n",
    "normalizer = pickle.load(open('./data/normalizer','rb'))\n",
    "g = pickle.load(open('./data/g','rb'))\n",
    "x_static = pickle.load(open('./data/x_static','rb'))"
   ]
  },
  {
   "cell_type": "code",
   "execution_count": 4,
   "metadata": {},
   "outputs": [
    {
     "name": "stdout",
     "output_type": "stream",
     "text": [
      "X train real shape (1015, 63, 22)\n",
      "X train update shape (1015, 63, 22)\n",
      "Y train shape (1015, 63, 1)\n",
      "Y train update shape (1015, 51)\n",
      "\n",
      "X val real shape (1015, 19, 22)\n",
      "X val update shape (1015, 19, 22)\n",
      "Y val shape (1015, 19, 1)\n",
      "\n",
      "X test real shape (1015, 19, 22)\n",
      "X test update shape (1015, 19, 22)\n",
      "Y test shape (1015, 19, 1)\n"
     ]
    }
   ],
   "source": [
    "print('X train real shape {0}'.format(x_train_real.shape))\n",
    "print('X train update shape {0}'.format(x_train_update.shape))\n",
    "print('Y train shape {0}'.format(y_train_real.shape))\n",
    "print('Y train update shape {0}'.format(y_train_update.shape))\n",
    "\n",
    "print()\n",
    "print('X val real shape {0}'.format(x_val_real.shape))\n",
    "print('X val update shape {0}'.format(x_val_update.shape))\n",
    "print('Y val shape {0}'.format(y_val.shape))\n",
    "\n",
    "print()\n",
    "print('X test real shape {0}'.format(x_test_real.shape))\n",
    "print('X test update shape {0}'.format(x_test_update.shape))\n",
    "print('Y test shape {0}'.format(y_test.shape))\n"
   ]
  },
  {
   "cell_type": "markdown",
   "metadata": {},
   "source": [
    "# Define model"
   ]
  },
  {
   "cell_type": "code",
   "execution_count": 5,
   "metadata": {},
   "outputs": [],
   "source": [
    "in_dim = 22\n",
    "static_dim = 4\n",
    "out_dim = 1\n",
    "gat_dim1 = 32\n",
    "gat_dim2 = 22\n",
    "satt_dim = 32\n",
    "sie_dim = 32\n",
    "tatt_dim = 64\n",
    "gru_dim = 256\n",
    "fc_dim = 256\n",
    "num_heads = 1\n",
    "\n",
    "#device = torch.device(\"cuda:0\" if torch.cuda.is_available() else \"cpu\")\n",
    "device = torch.device(\"cpu\")\n",
    "g = g.to(device)\n",
    "model = PopNet(g, in_dim, static_dim, out_dim, gat_dim1, gat_dim2, satt_dim, sie_dim, tatt_dim, gru_dim, fc_dim, num_heads, device).to(device)\n",
    "optimizer = torch.optim.Adam(model.parameters(), lr=1e-3)\n",
    "criterion = nn.MSELoss()"
   ]
  },
  {
   "cell_type": "code",
   "execution_count": 6,
   "metadata": {
    "scrolled": true
   },
   "outputs": [
    {
     "name": "stdout",
     "output_type": "stream",
     "text": [
      "PopNet(\n",
      "  (nn_r_gat1): MultiHeadGATLayer(\n",
      "    (heads): ModuleList(\n",
      "      (0): GATLayer(\n",
      "        (fc): Linear(in_features=22, out_features=32, bias=True)\n",
      "        (attn_fc): Linear(in_features=64, out_features=1, bias=True)\n",
      "      )\n",
      "    )\n",
      "  )\n",
      "  (nn_u_gat1): MultiHeadGATLayer(\n",
      "    (heads): ModuleList(\n",
      "      (0): GATLayer(\n",
      "        (fc): Linear(in_features=22, out_features=32, bias=True)\n",
      "        (attn_fc): Linear(in_features=64, out_features=1, bias=True)\n",
      "      )\n",
      "    )\n",
      "  )\n",
      "  (nn_input): Linear(in_features=22, out_features=22, bias=True)\n",
      "  (nn_satt): CrossGraphGAT(\n",
      "    (fc_static): Linear(in_features=4, out_features=32, bias=True)\n",
      "    (fc_real): Linear(in_features=64, out_features=32, bias=True)\n",
      "    (fc_update): Linear(in_features=64, out_features=32, bias=True)\n",
      "    (fc_attn): Linear(in_features=32, out_features=1, bias=True)\n",
      "  )\n",
      "  (nn_r_gru): GRUCell(86, 256)\n",
      "  (nn_u_gru): GRUCell(54, 256)\n",
      "  (nn_u_conv1): CausalConv1d(22, 16, kernel_size=(3,), stride=(1,), padding=(2,))\n",
      "  (nn_u_conv2): CausalConv1d(22, 16, kernel_size=(3,), stride=(1,), padding=(6,), dilation=(3,))\n",
      "  (nn_u_conv3): CausalConv1d(22, 16, kernel_size=(3,), stride=(1,), padding=(10,), dilation=(5,))\n",
      "  (nn_r_conv1): CausalConv1d(22, 16, kernel_size=(3,), stride=(1,), padding=(2,))\n",
      "  (nn_r_conv2): CausalConv1d(22, 16, kernel_size=(3,), stride=(1,), padding=(6,), dilation=(3,))\n",
      "  (nn_r_conv3): CausalConv1d(22, 16, kernel_size=(3,), stride=(1,), padding=(10,), dilation=(5,))\n",
      "  (nn_r_tie1): Linear(in_features=22, out_features=16, bias=True)\n",
      "  (nn_r_tie2): Linear(in_features=16, out_features=48, bias=True)\n",
      "  (nn_u_tie1): Linear(in_features=22, out_features=16, bias=True)\n",
      "  (nn_u_tie2): Linear(in_features=16, out_features=48, bias=True)\n",
      "  (nn_sgate1): Linear(in_features=32, out_features=32, bias=True)\n",
      "  (nn_sgate2): Linear(in_features=32, out_features=32, bias=True)\n",
      "  (nn_tgate1): Linear(in_features=256, out_features=256, bias=True)\n",
      "  (nn_tgate2): Linear(in_features=256, out_features=256, bias=True)\n",
      "  (nn_r_tatt): Linear(in_features=304, out_features=64, bias=True)\n",
      "  (nn_u_tatt): Linear(in_features=304, out_features=64, bias=True)\n",
      "  (tatt_func): Linear(in_features=64, out_features=1, bias=True)\n",
      "  (nn_r_fc): Linear(in_features=560, out_features=256, bias=True)\n",
      "  (nn_r_output): Linear(in_features=256, out_features=1, bias=True)\n",
      "  (nn_u_fc): Linear(in_features=304, out_features=256, bias=True)\n",
      "  (nn_u_output): Linear(in_features=256, out_features=1, bias=True)\n",
      "  (nn_kl_r1): Linear(in_features=48, out_features=256, bias=True)\n",
      "  (nn_kl_r2): Linear(in_features=256, out_features=256, bias=True)\n",
      "  (nn_kl_u1): Linear(in_features=48, out_features=256, bias=True)\n",
      "  (nn_kl_u2): Linear(in_features=256, out_features=256, bias=True)\n",
      "  (nn_dropout): Dropout(p=0.5, inplace=False)\n",
      "  (loss_KL): KLDivLoss()\n",
      ")\n"
     ]
    }
   ],
   "source": [
    "print(model)"
   ]
  },
  {
   "cell_type": "markdown",
   "metadata": {},
   "source": [
    "# Testing PopNet"
   ]
  },
  {
   "cell_type": "code",
   "execution_count": 7,
   "metadata": {
    "scrolled": true
   },
   "outputs": [],
   "source": [
    "x_train_real = torch.tensor(x_train_real).to(device)\n",
    "x_train_update = torch.tensor(x_train_update).to(device)\n",
    "y_train_real = torch.tensor(y_train_real).to(device)\n",
    "y_train_update = torch.tensor(y_train_update).to(device)\n",
    "\n",
    "x_val_real = torch.tensor(x_val_real).to(device)\n",
    "x_val_update = torch.tensor(x_val_update).to(device)\n",
    "y_val = torch.tensor(y_val).to(device)\n",
    "\n",
    "x_test_real = torch.tensor(x_test_real).to(device)\n",
    "x_test_update = torch.tensor(x_test_update).to(device)\n",
    "y_test = torch.tensor(y_test).to(device)\n",
    "\n",
    "x_static = torch.tensor(x_static).to(device)"
   ]
  },
  {
   "cell_type": "code",
   "execution_count": 8,
   "metadata": {},
   "outputs": [
    {
     "data": {
      "text/plain": [
       "PopNet(\n",
       "  (nn_r_gat1): MultiHeadGATLayer(\n",
       "    (heads): ModuleList(\n",
       "      (0): GATLayer(\n",
       "        (fc): Linear(in_features=22, out_features=32, bias=True)\n",
       "        (attn_fc): Linear(in_features=64, out_features=1, bias=True)\n",
       "      )\n",
       "    )\n",
       "  )\n",
       "  (nn_u_gat1): MultiHeadGATLayer(\n",
       "    (heads): ModuleList(\n",
       "      (0): GATLayer(\n",
       "        (fc): Linear(in_features=22, out_features=32, bias=True)\n",
       "        (attn_fc): Linear(in_features=64, out_features=1, bias=True)\n",
       "      )\n",
       "    )\n",
       "  )\n",
       "  (nn_input): Linear(in_features=22, out_features=22, bias=True)\n",
       "  (nn_satt): CrossGraphGAT(\n",
       "    (fc_static): Linear(in_features=4, out_features=32, bias=True)\n",
       "    (fc_real): Linear(in_features=64, out_features=32, bias=True)\n",
       "    (fc_update): Linear(in_features=64, out_features=32, bias=True)\n",
       "    (fc_attn): Linear(in_features=32, out_features=1, bias=True)\n",
       "  )\n",
       "  (nn_r_gru): GRUCell(86, 256)\n",
       "  (nn_u_gru): GRUCell(54, 256)\n",
       "  (nn_u_conv1): CausalConv1d(22, 16, kernel_size=(3,), stride=(1,), padding=(2,))\n",
       "  (nn_u_conv2): CausalConv1d(22, 16, kernel_size=(3,), stride=(1,), padding=(6,), dilation=(3,))\n",
       "  (nn_u_conv3): CausalConv1d(22, 16, kernel_size=(3,), stride=(1,), padding=(10,), dilation=(5,))\n",
       "  (nn_r_conv1): CausalConv1d(22, 16, kernel_size=(3,), stride=(1,), padding=(2,))\n",
       "  (nn_r_conv2): CausalConv1d(22, 16, kernel_size=(3,), stride=(1,), padding=(6,), dilation=(3,))\n",
       "  (nn_r_conv3): CausalConv1d(22, 16, kernel_size=(3,), stride=(1,), padding=(10,), dilation=(5,))\n",
       "  (nn_r_tie1): Linear(in_features=22, out_features=16, bias=True)\n",
       "  (nn_r_tie2): Linear(in_features=16, out_features=48, bias=True)\n",
       "  (nn_u_tie1): Linear(in_features=22, out_features=16, bias=True)\n",
       "  (nn_u_tie2): Linear(in_features=16, out_features=48, bias=True)\n",
       "  (nn_sgate1): Linear(in_features=32, out_features=32, bias=True)\n",
       "  (nn_sgate2): Linear(in_features=32, out_features=32, bias=True)\n",
       "  (nn_tgate1): Linear(in_features=256, out_features=256, bias=True)\n",
       "  (nn_tgate2): Linear(in_features=256, out_features=256, bias=True)\n",
       "  (nn_r_tatt): Linear(in_features=304, out_features=64, bias=True)\n",
       "  (nn_u_tatt): Linear(in_features=304, out_features=64, bias=True)\n",
       "  (tatt_func): Linear(in_features=64, out_features=1, bias=True)\n",
       "  (nn_r_fc): Linear(in_features=560, out_features=256, bias=True)\n",
       "  (nn_r_output): Linear(in_features=256, out_features=1, bias=True)\n",
       "  (nn_u_fc): Linear(in_features=304, out_features=256, bias=True)\n",
       "  (nn_u_output): Linear(in_features=256, out_features=1, bias=True)\n",
       "  (nn_kl_r1): Linear(in_features=48, out_features=256, bias=True)\n",
       "  (nn_kl_r2): Linear(in_features=256, out_features=256, bias=True)\n",
       "  (nn_kl_u1): Linear(in_features=48, out_features=256, bias=True)\n",
       "  (nn_kl_u2): Linear(in_features=256, out_features=256, bias=True)\n",
       "  (nn_dropout): Dropout(p=0.5, inplace=False)\n",
       "  (loss_KL): KLDivLoss()\n",
       ")"
      ]
     },
     "execution_count": 8,
     "metadata": {},
     "output_type": "execute_result"
    }
   ],
   "source": [
    "file_name = './save/PopNet'\n",
    "\n",
    "checkpoint = torch.load(file_name)\n",
    "model.load_state_dict(checkpoint['state'])\n",
    "optimizer.load_state_dict(checkpoint['optimizer'])\n",
    "model.eval()"
   ]
  },
  {
   "cell_type": "code",
   "execution_count": 9,
   "metadata": {},
   "outputs": [],
   "source": [
    "model.eval()\n",
    "\n",
    "#Get previous hidden state\n",
    "prev_input1 = torch.cat((x_train_real, x_val_real), dim=1)\n",
    "prev_input2 = torch.cat((x_train_update, x_val_update), dim=1)\n",
    "_, _, test_hidden1, test_hidden2, kl = model(prev_input1, prev_input2, x_static, None, None, None)\n",
    "\n",
    "#Set normailize to original value range\n",
    "norm = True\n",
    "actual_pred, actual_true = eval(model, x_test_real, x_test_update, y_test, x_static, test_hidden1, test_hidden2, None, normalizer, norm)\n"
   ]
  },
  {
   "cell_type": "code",
   "execution_count": 10,
   "metadata": {},
   "outputs": [
    {
     "name": "stdout",
     "output_type": "stream",
     "text": [
      "RMSE: 177610.69\n",
      "MAE: 97.94\n",
      "MAPE: 33.00\n"
     ]
    }
   ],
   "source": [
    "mse = []\n",
    "for i in range(len(actual_pred)):\n",
    "    mse.append(mean_squared_error(actual_true[i],actual_pred[i], squared='False'))\n",
    "print('RMSE: %.2f'%np.mean(mse))\n",
    "mae = []\n",
    "for i in range(len(actual_pred)):\n",
    "    mae.append(mean_absolute_error(actual_true[i],actual_pred[i]))\n",
    "print('MAE: %.2f'%np.mean(mae))\n",
    "mape = []\n",
    "for i in range(len(actual_pred)):\n",
    "    mape.append(MAPE(actual_true[i],actual_pred[i]))\n",
    "print('MAPE: %.2f'%np.mean(mape))"
   ]
  },
  {
   "cell_type": "markdown",
   "metadata": {},
   "source": [
    "# Training PopNet from scratch"
   ]
  },
  {
   "cell_type": "code",
   "execution_count": null,
   "metadata": {
    "scrolled": true
   },
   "outputs": [],
   "source": [
    "all_loss = []\n",
    "\n",
    "file_name = './save/PopNet_new'\n",
    "for epoch in range(200):\n",
    "    model.train()\n",
    "    \n",
    "    y_pred_r, y_pred_u, hidden1, hidden2, kl = model(x_train_real, x_train_update, x_static, None, None, None) \n",
    "    loss = criterion(y_pred_r, y_train_real) + criterion(y_pred_u[:, 12:], y_train_update.unsqueeze(-1)) + kl\n",
    "    loss.backward()\n",
    "    optimizer.step()\n",
    "    optimizer.zero_grad()\n",
    "    \n",
    "    all_loss.append(loss.item())\n",
    "    state = {\n",
    "        'state': model.state_dict(),\n",
    "        'optimizer': optimizer.state_dict(),\n",
    "    }\n",
    "    torch.save(state, file_name)\n",
    "    \n",
    "    print('Epoch %d, Loss %.2f, KL loss %.2f'%(epoch, all_loss[-1], kl))"
   ]
  },
  {
   "cell_type": "code",
   "execution_count": null,
   "metadata": {},
   "outputs": [],
   "source": []
  }
 ],
 "metadata": {
  "kernelspec": {
   "display_name": "Python 3",
   "language": "python",
   "name": "python3"
  },
  "language_info": {
   "codemirror_mode": {
    "name": "ipython",
    "version": 3
   },
   "file_extension": ".py",
   "mimetype": "text/x-python",
   "name": "python",
   "nbconvert_exporter": "python",
   "pygments_lexer": "ipython3",
   "version": "3.8.5"
  },
  "toc": {
   "base_numbering": 1,
   "nav_menu": {},
   "number_sections": true,
   "sideBar": true,
   "skip_h1_title": false,
   "title_cell": "Table of Contents",
   "title_sidebar": "Contents",
   "toc_cell": false,
   "toc_position": {
    "height": "calc(100% - 180px)",
    "left": "10px",
    "top": "150px",
    "width": "245.594px"
   },
   "toc_section_display": true,
   "toc_window_display": true
  }
 },
 "nbformat": 4,
 "nbformat_minor": 4
}
